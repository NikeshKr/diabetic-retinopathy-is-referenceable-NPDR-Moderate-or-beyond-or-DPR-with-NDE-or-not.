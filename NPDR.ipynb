{
 "cells": [
  {
   "cell_type": "code",
   "execution_count": 16,
   "id": "20d7cec9",
   "metadata": {},
   "outputs": [
    {
     "name": "stdout",
     "output_type": "stream",
     "text": [
      "Found 3662 images belonging to 2 classes.\n",
      "Found 768 images belonging to 2 classes.\n",
      "Epoch 1/10\n",
      "229/229 [==============================] - 1318s 6s/step - loss: 0.4403 - accuracy: 0.8460 - val_loss: 0.6796 - val_accuracy: 0.8008\n",
      "Epoch 2/10\n",
      "229/229 [==============================] - 1157s 5s/step - loss: 0.4013 - accuracy: 0.8512 - val_loss: 0.6128 - val_accuracy: 0.8008\n",
      "Epoch 3/10\n",
      "229/229 [==============================] - 1198s 5s/step - loss: 0.3206 - accuracy: 0.8768 - val_loss: 2.5370 - val_accuracy: 0.2786\n",
      "Epoch 4/10\n",
      "229/229 [==============================] - 1151s 5s/step - loss: 0.2630 - accuracy: 0.9033 - val_loss: 0.4448 - val_accuracy: 0.8372\n",
      "Epoch 5/10\n",
      "229/229 [==============================] - 1117s 5s/step - loss: 0.2656 - accuracy: 0.9039 - val_loss: 0.3276 - val_accuracy: 0.8815\n",
      "Epoch 6/10\n",
      "229/229 [==============================] - 1124s 5s/step - loss: 0.2570 - accuracy: 0.9033 - val_loss: 0.4087 - val_accuracy: 0.8542\n",
      "Epoch 7/10\n",
      "229/229 [==============================] - 1158s 5s/step - loss: 0.2578 - accuracy: 0.9058 - val_loss: 0.4894 - val_accuracy: 0.8411\n",
      "Epoch 8/10\n",
      "229/229 [==============================] - 1147s 5s/step - loss: 0.2686 - accuracy: 0.8965 - val_loss: 0.2863 - val_accuracy: 0.8958\n",
      "Epoch 9/10\n",
      "229/229 [==============================] - 1108s 5s/step - loss: 0.2661 - accuracy: 0.9039 - val_loss: 0.5727 - val_accuracy: 0.8008\n",
      "Epoch 10/10\n",
      "229/229 [==============================] - 1090s 5s/step - loss: 0.2588 - accuracy: 0.9069 - val_loss: 0.3666 - val_accuracy: 0.8698\n",
      "48/48 [==============================] - 63s 1s/step - loss: 0.3666 - accuracy: 0.8698\n",
      "Test accuracy: 0.8697916865348816\n",
      "48/48 [==============================] - 63s 1s/step\n",
      "Confusion matrix:\n",
      " [[566  49]\n",
      " [145   8]]\n",
      "Classification report:\n",
      "               precision    recall  f1-score   support\n",
      "\n",
      "           0       0.80      0.92      0.85       615\n",
      "           1       0.14      0.05      0.08       153\n",
      "\n",
      "    accuracy                           0.75       768\n",
      "   macro avg       0.47      0.49      0.46       768\n",
      "weighted avg       0.67      0.75      0.70       768\n",
      "\n",
      "Sensitivity: 0.05228758169934641\n",
      "Specificity: 0.9203252032520325\n"
     ]
    },
    {
     "data": {
      "image/png": "[encoded data removed]",
      "text/plain": [
       "<Figure size 432x288 with 1 Axes>"
      ]
     },
     "metadata": {
      "needs_background": "light"
     },
     "output_type": "display_data"
    }
   ],
   "source": [
    "import os\n",
    "import numpy as np\n",
    "import matplotlib.pyplot as plt\n",
    "import tensorflow as tf\n",
    "from tensorflow.keras.preprocessing.image import ImageDataGenerator\n",
    "from tensorflow.keras.applications import ResNet50\n",
    "from sklearn.metrics import classification_report, confusion_matrix, roc_curve, auc\n",
    "\n",
    "# Set the random seeds for reproducibility\n",
    "np.random.seed(42)\n",
    "tf.random.set_seed(42)\n",
    "\n",
    "# Define the data directories\n",
    "train_dir = 'C:/Users/nikes/Downloads/SAUNAR/Train'\n",
    "test_dir = 'C:/Users/nikes/Downloads/SAUNAR/Test'\n",
    "\n",
    "# Define the image size and batch size\n",
    "img_size = 224\n",
    "batch_size = 16\n",
    "\n",
    "# Define the data generators for training and testing\n",
    "train_datagen = ImageDataGenerator(\n",
    "    rescale=1./255,\n",
    "    shear_range=0.2,\n",
    "    zoom_range=0.2,\n",
    "    horizontal_flip=True)\n",
    "\n",
    "test_datagen = ImageDataGenerator(rescale=1./255)\n",
    "\n",
    "train_generator = train_datagen.flow_from_directory(\n",
    "    train_dir,\n",
    "    target_size=(img_size, img_size),\n",
    "    batch_size=batch_size,\n",
    "    class_mode='binary')\n",
    "\n",
    "test_generator = test_datagen.flow_from_directory(\n",
    "    test_dir,\n",
    "    target_size=(img_size, img_size),\n",
    "    batch_size=batch_size,\n",
    "    class_mode='binary')\n",
    "\n",
    "# Define the ResNet50 model\n",
    "resnet = ResNet50(include_top=False, input_shape=(img_size, img_size, 3), pooling='avg', weights='imagenet')\n",
    "x = resnet.output\n",
    "predictions = tf.keras.layers.Dense(1, activation='sigmoid')(x)\n",
    "model = tf.keras.models.Model(inputs=resnet.input, outputs=predictions)\n",
    "\n",
    "# Compile the model\n",
    "model.compile(optimizer='adam', loss='binary_crossentropy', metrics=['accuracy'])\n",
    "\n",
    "# Train the model\n",
    "history = model.fit(\n",
    "    train_generator,\n",
    "    epochs=10,\n",
    "    validation_data=test_generator)\n",
    "\n",
    "# Evaluate the model\n",
    "test_loss, test_acc = model.evaluate(test_generator)\n",
    "print('Test accuracy:', test_acc)\n",
    "\n",
    "# Make predictions on the test set\n",
    "y_true = test_generator.classes\n",
    "y_pred = model.predict(test_generator).flatten()\n",
    "\n",
    "# Compute the confusion matrix and classification report\n",
    "cm = confusion_matrix(y_true, y_pred > 0.5)\n",
    "print('Confusion matrix:\\n', cm)\n",
    "print('Classification report:\\n', classification_report(y_true, y_pred > 0.5))\n",
    "\n",
    "# Compute the sensitivity and specificity\n",
    "tn, fp, fn, tp = cm.ravel()\n",
    "sensitivity = tp / (tp + fn)\n",
    "specificity = tn / (tn + fp)\n",
    "print('Sensitivity:', sensitivity)\n",
    "print('Specificity:', specificity)\n",
    "\n",
    "# Compute the ROC curve and AUC\n",
    "fpr, tpr, thresholds = roc_curve(y_true, y_pred)\n",
    "roc_auc = auc(fpr, tpr)\n",
    "\n",
    "# Plot the ROC curve\n",
    "plt.plot(fpr, tpr, label='ROC curve (area = %0.2f)' % roc_auc)\n",
    "plt.plot([0, 1], [0, 1], 'k--')\n",
    "plt.xlabel('False Positive Rate')\n",
    "plt.ylabel('True Positive Rate')\n",
    "plt.title('Receiver operating characteristic')\n",
    "plt.legend(loc='lower right')\n",
    "plt.show()\n"
   ]
  },
  {
   "cell_type": "code",
   "execution_count": null,
   "id": "bab6163a",
   "metadata": {},
   "outputs": [],
   "source": [
    "import os\n",
    "import numpy as np\n",
    "import matplotlib.pyplot as plt\n",
    "import tensorflow as tf\n",
    "from tensorflow.keras.preprocessing.image import ImageDataGenerator\n",
    "from tensorflow.keras.applications import ResNet50\n",
    "from sklearn.metrics import classification_report, confusion_matrix, roc_curve, auc"
   ]
  },
  {
   "cell_type": "code",
   "execution_count": null,
   "id": "e8ec0e5c",
   "metadata": {},
   "outputs": [],
   "source": [
    "# Set the random seeds for reproducibility\n",
    "np.random.seed(42)\n",
    "tf.random.set_seed(42)\n",
    "\n",
    "# Define the data directories\n",
    "train_dir = 'C:/Users/nikes/Downloads/SAUNAR/Train'\n",
    "test_dir = 'C:/Users/nikes/Downloads/SAUNAR/Test'\n"
   ]
  },
  {
   "cell_type": "code",
   "execution_count": null,
   "id": "e0c3ef48",
   "metadata": {},
   "outputs": [],
   "source": [
    "# Define the image size and batch size\n",
    "img_size = 224\n",
    "batch_size = 16\n",
    "\n",
    "# Define the data generators for training and testing\n",
    "train_datagen = ImageDataGenerator(\n",
    "    rescale=1./255,\n",
    "    shear_range=0.2,\n",
    "    zoom_range=0.2,\n",
    "    horizontal_flip=True)\n",
    "\n",
    "test_datagen = ImageDataGenerator(rescale=1./255)\n",
    "\n",
    "train_generator = train_datagen.flow_from_directory(\n",
    "    train_dir,\n",
    "    target_size=(img_size, img_size),\n",
    "    batch_size=batch_size,\n",
    "    class_mode='binary')\n",
    "\n",
    "test_generator = test_datagen.flow_from_directory(\n",
    "    test_dir,\n",
    "    target_size=(img_size, img_size),\n",
    "    batch_size=batch_size,\n",
    "    class_mode='binary')"
   ]
  },
  {
   "cell_type": "code",
   "execution_count": null,
   "id": "6c82d090",
   "metadata": {},
   "outputs": [],
   "source": [
    "# Define the ResNet50 model\n",
    "resnet = ResNet50(include_top=False, input_shape=(img_size, img_size, 3), pooling='avg', weights='imagenet')\n",
    "x = resnet.output\n",
    "predictions = tf.keras.layers.Dense(1, activation='sigmoid')(x)\n",
    "model = tf.keras.models.Model(inputs=resnet.input, outputs=predictions)\n"
   ]
  },
  {
   "cell_type": "code",
   "execution_count": null,
   "id": "8432ada9",
   "metadata": {},
   "outputs": [],
   "source": [
    "# Compile the model\n",
    "model.compile(optimizer='adam', loss='binary_crossentropy', metrics=['accuracy'])"
   ]
  },
  {
   "cell_type": "code",
   "execution_count": null,
   "id": "921ce71c",
   "metadata": {},
   "outputs": [],
   "source": [
    "# Train the model\n",
    "history = model.fit(train_generator,epochs=10,validation_data=test_generator)"
   ]
  },
  {
   "cell_type": "code",
   "execution_count": null,
   "id": "94edadad",
   "metadata": {},
   "outputs": [],
   "source": [
    "# Evaluate the model\n",
    "test_loss, test_acc = model.evaluate(test_generator)\n",
    "print('Test accuracy:', test_acc)\n"
   ]
  },
  {
   "cell_type": "code",
   "execution_count": null,
   "id": "746b4d56",
   "metadata": {},
   "outputs": [],
   "source": [
    "# Make predictions on the test set\n",
    "y_true = test_generator.classes\n",
    "y_pred = model.predict(test_generator).flatten()"
   ]
  },
  {
   "cell_type": "code",
   "execution_count": null,
   "id": "fa987064",
   "metadata": {},
   "outputs": [],
   "source": [
    "# Compute the confusion matrix and classification report\n",
    "cm = confusion_matrix(y_true, y_pred > 0.5)\n",
    "print('Confusion matrix:\\n', cm)\n",
    "print('Classification report:\\n', classification_report(y_true, y_pred > 0.5))"
   ]
  },
  {
   "cell_type": "code",
   "execution_count": null,
   "id": "5de7433b",
   "metadata": {},
   "outputs": [],
   "source": [
    "# Compute the sensitivity and specificity\n",
    "tn, fp, fn, tp = cm.ravel()\n",
    "sensitivity = tp / (tp + fn)\n",
    "specificity = tn / (tn + fp)\n",
    "print('Sensitivity:', sensitivity)\n",
    "print('Specificity:', specificity)\n"
   ]
  },
  {
   "cell_type": "code",
   "execution_count": null,
   "id": "98ad4a9c",
   "metadata": {},
   "outputs": [],
   "source": [
    "# Compute the ROC curve and AUC\n",
    "fpr, tpr, thresholds = roc_curve(y_true, y_pred)\n",
    "roc_auc = auc(fpr, tpr)"
   ]
  },
  {
   "cell_type": "code",
   "execution_count": null,
   "id": "23058fb9",
   "metadata": {},
   "outputs": [],
   "source": [
    "# Plot the ROC curve\n",
    "plt.plot(fpr, tpr, label='ROC curve (area = %0.2f)' % roc_auc)\n",
    "plt.plot([0, 1], [0, 1], 'k--')\n",
    "plt.xlabel('False Positive Rate')\n",
    "plt.ylabel('True Positive Rate')\n",
    "plt.title('Receiver operating characteristic')\n",
    "plt.legend(loc='lower right')\n",
    "plt.show()"
   ]
  }
 ],
 "metadata": {
  "kernelspec": {
   "display_name": "Python 3",
   "language": "python",
   "name": "python3"
  },
  "language_info": {
   "codemirror_mode": {
    "name": "ipython",
    "version": 3
   },
   "file_extension": ".py",
   "mimetype": "text/x-python",
   "name": "python",
   "nbconvert_exporter": "python",
   "pygments_lexer": "ipython3",
   "version": "3.8.8"
  }
 },
 "nbformat": 4,
 "nbformat_minor": 5
}
